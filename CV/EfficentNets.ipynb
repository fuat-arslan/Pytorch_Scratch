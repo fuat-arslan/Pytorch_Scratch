{
  "nbformat": 4,
  "nbformat_minor": 0,
  "metadata": {
    "colab": {
      "provenance": [],
      "authorship_tag": "ABX9TyPIuDL44RBwlV0s0WtSRwsi",
      "include_colab_link": true
    },
    "kernelspec": {
      "name": "python3",
      "display_name": "Python 3"
    },
    "language_info": {
      "name": "python"
    }
  },
  "cells": [
    {
      "cell_type": "markdown",
      "metadata": {
        "id": "view-in-github",
        "colab_type": "text"
      },
      "source": [
        "<a href=\"https://colab.research.google.com/github/fuat-arslan/Pytorch_Scratch/blob/main/CV/EfficentNets.ipynb\" target=\"_parent\"><img src=\"https://colab.research.google.com/assets/colab-badge.svg\" alt=\"Open In Colab\"/></a>"
      ]
    },
    {
      "cell_type": "markdown",
      "source": [
        "https://arxiv.org/abs/1905.11946"
      ],
      "metadata": {
        "id": "1S2XY2JHudc0"
      }
    },
    {
      "cell_type": "code",
      "execution_count": 1,
      "metadata": {
        "id": "aeVR2nQRuZbi"
      },
      "outputs": [],
      "source": [
        "import torch\n",
        "import torch.nn as nn\n",
        "from math import ceil\n",
        "from collections import namedtuple\n",
        "\n"
      ]
    },
    {
      "cell_type": "markdown",
      "source": [
        "Base Network Values"
      ],
      "metadata": {
        "id": "eC3aR51Uwtkb"
      }
    },
    {
      "cell_type": "code",
      "source": [
        "LAYER = namedtuple('Layer', 'expand_ratio channels stride kernel_size num_layers')\n",
        "bl0 = LAYER(1,16,1,3,1)\n",
        "bl1 = LAYER(6,24,2,3,2)\n",
        "bl2 = LAYER(6,40,2,5,2)\n",
        "bl3 = LAYER(6,80,2,3,3)\n",
        "bl4 = LAYER(6,112,1,5,3)\n",
        "bl5 = LAYER(6,192,2,5,4)\n",
        "bl6 = LAYER(6,320,1,3,1)\n",
        "\n",
        "base = [bl0, bl1,bl2,bl3,bl4,bl5,bl6]"
      ],
      "metadata": {
        "id": "wFyYSGUYvrCw"
      },
      "execution_count": 12,
      "outputs": []
    },
    {
      "cell_type": "markdown",
      "source": [
        "phi values for scaleing "
      ],
      "metadata": {
        "id": "yFP1Pjd0wx2S"
      }
    },
    {
      "cell_type": "code",
      "source": [
        "ModelType = namedtuple('ModelType', 'phi_value resolution drop_rate')\n",
        "\n",
        "b0 = ModelType(0,224,0.2)\n",
        "b1 = ModelType(0.5,240,0.2)\n",
        "b2 = ModelType(1,260,0.3)\n",
        "b3 = ModelType(2,300,0.3)\n",
        "b4 = ModelType(3,380,0.4)\n",
        "b5 = ModelType(4,456,0.4)\n",
        "b6 = ModelType(5,528,0.5)\n",
        "b7 = ModelType(6,600,0.5)"
      ],
      "metadata": {
        "id": "M7qiom8dwqTr"
      },
      "execution_count": 11,
      "outputs": []
    },
    {
      "cell_type": "code",
      "source": [
        "class PrimitiveCNN(nn.Module):\n",
        "    def __init__(self, in_channels, out_channels, kernel_size, stride, padding, groups=1):\n",
        "        super(PrimitiveCNN,self).__init__()\n",
        "        self.cnn = nn.Conv2d(\n",
        "            in_channels, \n",
        "            out_channels, \n",
        "            kernel_size, \n",
        "            stride, \n",
        "            padding,\n",
        "            bias = False,\n",
        "            groups = groups\n",
        "        )\n",
        "        self.bn = nn.BatchNorm2d(out_channels)\n",
        "        self.activation = nn.SiLU() #This is what paper specisfies.\n",
        "    def forward(self,x):\n",
        "        return self.activation(self.bn(self.cnn(x)))"
      ],
      "metadata": {
        "id": "4H-xyrL-xSDk"
      },
      "execution_count": 17,
      "outputs": []
    },
    {
      "cell_type": "code",
      "source": [
        "class SqueezeExcitation(nn.Module):\n",
        "    \"\"\"https://arxiv.org/abs/1709.01507\n",
        "        This is similar to attention idea. Attenitons to channels.\n",
        "    \"\"\"\n",
        "    def __init__(self, in_channels, reduced_dim):\n",
        "        super().__init__()\n",
        "        self.main = nn.Sequential(\n",
        "            nn.AdaptiveAvgPool2d(1), # C x H x W --> C x 1 x 1\n",
        "            nn.Conv2d(in_channels, reduced_dim,1), #1x1 kernel to bring it reduced form\n",
        "            nn.SiLU(),\n",
        "            nn.Conv2d(reduced_dim, in_channels, 1), #Bring it back to original C size\n",
        "            nn.Sigmoid()\n",
        "        )\n",
        "    def forward(self,x):\n",
        "        #Multiply with attentions\n",
        "        return x * self.main(x)"
      ],
      "metadata": {
        "id": "oio-ERPdzHDo"
      },
      "execution_count": 18,
      "outputs": []
    },
    {
      "cell_type": "code",
      "source": [
        "class MBConv(nn.Module):\n",
        "    def __init__(self, in_channels, out_channels, kernel_size, \n",
        "                 stride , padding, expand_ratio, reduction = 2, stochastic_depth = 0.8):\n",
        "        super().__init__()\n",
        "        self.stochastic_depth = 0.8\n",
        "\n",
        "        self.residual_avaliable = in_channels == out_channels and stride == 1\n",
        "\n",
        "        hidden_dim = in_channels * expand_ratio\n",
        "        \n",
        "        self.expandable = in_channels != hidden_dim\n",
        "        reduced_dim = int(in_channels/reduction)\n",
        "\n",
        "        if self.expandable:\n",
        "            self.expander = PrimitiveCNN(in_channels, hidden_dim,kernel_size, stride, padding)\n",
        "\n",
        "        self.main = nn.Sequential(\n",
        "            PrimitiveCNN(hidden_dim, hidden_dim,\n",
        "                         kernel_size, stride,\n",
        "                         padding, groups=hidden_dim), #Depth wise conv\n",
        "\n",
        "            SqueezeExcitation(hidden_dim, reduced_dim),\n",
        "            nn.Conv2d(hidden_dim, out_channels, 1, bias = False), #Point wise conv\n",
        "            nn.BatchNorm2d(out_channels)\n",
        "        )\n",
        "\n",
        "    def stochastic_depth_f (self, x):\n",
        "        if not self.training:\n",
        "            return x\n",
        "        \n",
        "        binary_tensor = torch.rand(x.shape[0],1,1,1, device = x.device) < self.stochastic_depth\n",
        "\n",
        "        return torch.div(x, self.stochastic_depth) * binary_tensor #from stochastic depth paper ????\n",
        "\n",
        "    def forward(self, X):\n",
        "        x = self.expander(X) if self.expandable else X\n",
        "\n",
        "        if self.residual_avaliable:\n",
        "            return self.stochastic_depth_f(self.main(x)) + X\n",
        "        else:\n",
        "            return self.main(x)\n",
        "        "
      ],
      "metadata": {
        "id": "Q6B5BnzLyJs_"
      },
      "execution_count": 8,
      "outputs": []
    },
    {
      "cell_type": "code",
      "source": [
        "class EfficientNet(nn.Module):\n",
        "    def __init__(self, ver_tuple, num_classes):\n",
        "        super().__init__()\n",
        "\n",
        "        depth_multiplier, width__multiplier, drop_rate = self.param_extractor(ver_tuple)\n",
        "        last_c = ceil(1280*width__multiplier)\n",
        "        self.pool = nn.AdaptiveAvgPool2d(1)\n",
        "        self.features = self.create_features(depth_multiplier, width__multiplier,last_c)\n",
        "        self.fc = nn.Sequential(\n",
        "            nn.Dropout(drop_rate),\n",
        "            nn.Linear(last_c, num_classes)\n",
        "        )\n",
        "\n",
        "    def param_extractor(self, ver_tuple, alpha=1.2, beta=1.1):\n",
        "        phi, res, drop_rate = ver_tuple\n",
        "        depth_multiplier = alpha**phi\n",
        "        width__multiplier = beta ** phi\n",
        "        return depth_multiplier, width__multiplier, drop_rate\n",
        "\n",
        "    def create_features(self, depth_multiplier, width__multiplier,last_c):\n",
        "        chn = int(32*width__multiplier)\n",
        "        features = []\n",
        "        features.append(PrimitiveCNN(3, chn, 3, stride=2, padding=1))\n",
        "        in_channels = chn\n",
        "\n",
        "        for expand_ratio, channels, stride, kernel_size, num_layers in base:\n",
        "            out_channels = 4*ceil(int(channels*width__multiplier)/4)\n",
        "            num_layers_mult = ceil(num_layers* depth_multiplier)\n",
        "\n",
        "            for layer in range(num_layers_mult):\n",
        "                features.append(MBConv(in_channels,out_channels,\n",
        "                                       expand_ratio = expand_ratio,\n",
        "                                       stride = stride if layer == 0 else 1,\n",
        "                                       kernel_size = kernel_size,\n",
        "                                       padding = kernel_size//2\n",
        "                                       ))\n",
        "                   \n",
        "                in_channels = out_channels\n",
        "            \n",
        "        features.append(\n",
        "            PrimitiveCNN(in_channels, last_c, kernel_size = 1, stride = 1, padding=0)\n",
        "        )\n",
        "\n",
        "        return nn.Sequential(*features)\n",
        "\n",
        "    def forward(self,x):\n",
        "        x = self.pool(self.features(x))\n",
        "        return self.fc(x.view(x.shape[0],-1))\n",
        "                "
      ],
      "metadata": {
        "id": "VWOCATPj7xm2"
      },
      "execution_count": 13,
      "outputs": []
    },
    {
      "cell_type": "code",
      "source": [
        "def test():\n",
        "    device = \"cuda\" if torch.cuda.is_available() else 'cpu'\n",
        "    version_tuple = b0\n",
        "    phi, res, drop_rate = version_tuple\n",
        "    num_ex = 4\n",
        "    num_class = 10\n",
        "    x = torch.randn((num_ex,3,res,res))\n",
        "    model = EfficientNet(version_tuple,10).to(device)\n",
        "    print(model(x).shape)"
      ],
      "metadata": {
        "id": "uIw-UmFQAH3K"
      },
      "execution_count": 14,
      "outputs": []
    },
    {
      "cell_type": "code",
      "source": [
        "test()"
      ],
      "metadata": {
        "colab": {
          "base_uri": "https://localhost:8080/"
        },
        "id": "rKz5ge5q8nTF",
        "outputId": "747d3023-2d39-47a4-b3ca-08ddd23ec509"
      },
      "execution_count": 19,
      "outputs": [
        {
          "output_type": "stream",
          "name": "stdout",
          "text": [
            "torch.Size([4, 10])\n"
          ]
        }
      ]
    }
  ]
}